{
 "cells": [
  {
   "cell_type": "markdown",
   "id": "ed9b281b",
   "metadata": {},
   "source": [
    "# EnKF Analysis Update:\n",
    "\n",
    "$$X_t^n = \\hat X_t^n + \\sqrt{\\frac{1+\\zeta}{N-1}}(\\hat X_t^n - \\hat m_t) \\tilde Z_t^T [R^{-1}-R^{-1}Z_t(I_{N\\times N} + \\tilde Z_t^TR^{-1} \\tilde Z_t)^{-1}\\tilde Z_t^TR^{-1}](Y_t + \\gamma_t^n - H\\hat X_t^n), \\quad \\textrm{ where } \\tilde Z_t^n = \\sqrt{\\frac{1+\\zeta}{N-1}}(H\\hat X_t^n - H \\hat m_t)$$"
   ]
  },
  {
   "cell_type": "markdown",
   "id": "c8bacd30",
   "metadata": {},
   "source": [
    "The analysis step is decomposed into part1 and part2 in the code. I distributed the multiplication across the subtraction in the brackets above.\n",
    "\n",
    "part1 = $\\sqrt{\\frac{1+ \\zeta}{N-1}}(\\hat X_{t}^n-\\hat m_t)\\tilde Z_t R^{-1}(Y_t + \\gamma_t^n - H\\hat X_t^n)$\n",
    "\n",
    "part2 = $-\\sqrt{\\frac{1+ \\zeta}{N-1}}(\\hat X_{t}^n-\\hat m_t)\\tilde Z_t R^{-1}Z_t(I_{N\\times N} + \\tilde Z_t^TR^{-1} \\tilde Z_t)^{-1}\\tilde Z_t^TR^{-1}(Y_t + \\gamma_t^n - H\\hat X_t^n)$\n",
    "\n",
    "\n"
   ]
  },
  {
   "cell_type": "markdown",
   "id": "e0648424",
   "metadata": {},
   "source": [
    "Since $\\hat X_t \\in \\mathbb{R}^{N\\times d_x}$ and $Y_t \\in \\mathbb{R}^{N\\times d_y}$ in the code, and $\\hat X_t \\in \\mathbb{R}^{d_x \\times N}$ and $Y_t \\in \\mathbb{R}^{d_y\\times N}$ in the expression above (I should really change this), we can rewrite the above expressions to account for the swapping of $\\hat X_t$ and $Y_t$ dimensions.\n",
    "\n",
    "Code:\n",
    "\n",
    "part1 = $\\sqrt{\\frac{1+ \\zeta}{N-1}}(Y_t + \\gamma_t^n - H\\hat X_t^n)R^{-1}\\tilde Z_t(\\hat X_{t}^n-\\hat m_t) $\n",
    "\n",
    "part2 = $-\\sqrt{\\frac{1+ \\zeta}{N-1}}(Y_t + \\gamma_t^n - H\\hat X_t^n)R^{-1}\\tilde Z_t(I_{N\\times N} + \\tilde Z_t^TR^{-1} \\tilde Z_t)^{-1}\\tilde Z_t^TR^{-1}Z_t(\\hat X_{t}^n-\\hat m_t)$\n"
   ]
  },
  {
   "cell_type": "markdown",
   "id": "0ad6cd1e",
   "metadata": {},
   "source": [
    "Here are what each named variable means in the code, and what its dimension is:\n",
    "\n",
    "obs_perturb: $Y_t + \\gamma^n_t \\in \\mathbb{R}^{N\\times d_y}$\n",
    "\n",
    "R: $R\\in \\mathbb{R}^{d_y \\times d_y}$\n",
    "\n",
    "Z: $\\tilde Z_t^n =\\sqrt{\\frac{1+\\zeta}{N-1}}(H\\hat X_t^n - H \\hat m_t) \\in \\mathbb{R}^{d_y\\times N}$\n",
    "\n",
    "RZ: $R^{-1}\\tilde Z_t \\in \\mathbb{R}^{d_y \\times N}$\n",
    "\n",
    "nxn_inv: $(I_{N\\times N} + \\tilde Z_t^T R^{-1}Z_t)^{-1} \\in \\mathbb{R}^{N\\times N}$\n",
    "\n",
    "X_ct: $(\\hat X_t^n - \\hat m_t) \\in \\mathbb{R}^{N\\times d_x}$"
   ]
  },
  {
   "cell_type": "markdown",
   "id": "ac323f30",
   "metadata": {},
   "source": [
    "This code assumes that $H=I_{d_y\\times d_x}$, $d_y=d_x$, $R=rI_{d_y\\times d_y}$, $r\\in \\mathbb{R}^1$. The equations have a subscript $t$, but we can ignore this here. There is also an additional dimension for \"bs\" at the beginning of each tensor, but I set this dimension to 1 for all variables (it's an artifact from the original code source), so it's safe to ignore."
   ]
  },
  {
   "cell_type": "code",
   "execution_count": 1,
   "id": "aedc68bd-1f4c-4cab-8dfa-ffcf13043c1d",
   "metadata": {},
   "outputs": [],
   "source": [
    "import torch\n",
    "import math\n",
    "def test_analysis(X, Y, r, N_ensem, zeta, y_perturb, float_type = torch.double):\n",
    "    # X: initial condition\n",
    "    # Y: observational data\n",
    "    # r: observation variance scalar\n",
    "    # N_ensem: number of ensemble members\n",
    "    # zeta: covariance inflation constant\n",
    "    # y_perturb: N_ensem random draws from N(0,R)\n",
    "    # float_type = torch.double : double precision computations\n",
    "    \n",
    "    ########################################\n",
    "    #               Analysis               #\n",
    "    ########################################\n",
    "    device = 'cpu'\n",
    "    bs = 1\n",
    "    y_dim = Y.shape[1]\n",
    "\n",
    "    HX = X # assume H is the identity matrix \n",
    "\n",
    "    X_m = X.mean(dim=-2).unsqueeze(-2)\n",
    "    X_ct = X - X_m\n",
    "    \n",
    "    obs_perturb = Y + y_perturb\n",
    "    \n",
    "    Z = torch.empty((bs, y_dim, N_ensem), dtype=float_type).to(device=device)\n",
    "            \n",
    "    # populate Z for each bs\n",
    "    for i in range(bs):\n",
    "        Z[i,:,:] = math.sqrt(1+zeta)/math.sqrt(N_ensem-1) * X_ct.transpose(-1,-2)[i,:,:] # (*bs, y_dim, N_ensem)\n",
    "            \n",
    "\n",
    "    RZ =  1/r * Z # this is R^{-1}Z \n",
    "\n",
    "    nxn_chol = torch.linalg.cholesky(torch.eye(N_ensem, device = device).expand(bs, N_ensem, N_ensem)  + RZ.transpose(1,2) @ Z)\n",
    "    nxn_inv = torch.cholesky_inverse(nxn_chol)            \n",
    "\n",
    "    # Update\n",
    "    part1 = 1/r*math.sqrt(1+zeta)/math.sqrt(N_ensem-1)*( (obs_perturb-HX)@Z.to(dtype=float_type) )@ X_ct.to(dtype=float_type)\n",
    "    #                                                           ( N x dy       dy x N  )                     N x dx\n",
    "    #                                                                    N x N                               N x dx\n",
    "    #                                                                                     N x dx\n",
    "\n",
    "\n",
    "    part2 = -math.sqrt(1+zeta)/math.sqrt(N_ensem-1)*( (obs_perturb-HX) @ RZ) @ nxn_inv @ ( RZ.transpose(-1,-2) @Z.to(dtype=float_type) )@ X_ct.to(dtype=float_type)\n",
    "    #                                                    ( N x dy    dy x N )     N x N      ( N x dy                   dy x N )             N x dx\n",
    "    #                                                         N x N               N x N                   N x N                              N x dx\n",
    "    #                                                                                        N x dx\n",
    "    X = X + part1 + part2   \n",
    "    return X"
   ]
  },
  {
   "cell_type": "markdown",
   "id": "b694163e",
   "metadata": {},
   "source": [
    "# Example setup"
   ]
  },
  {
   "cell_type": "code",
   "execution_count": 2,
   "id": "d267e30f-2431-4250-b5db-b174d2c23cc6",
   "metadata": {},
   "outputs": [
    {
     "name": "stdout",
     "output_type": "stream",
     "text": [
      "tensor([[-0.1000,  0.0000],\n",
      "        [ 0.1000, -0.2000],\n",
      "        [-0.2000, -0.0000]], dtype=torch.float64)\n"
     ]
    }
   ],
   "source": [
    "torch.manual_seed(20)\n",
    "\n",
    "N_ensem = 3\n",
    "dx = dy = 2\n",
    "r = 0.0001 # small observation noise, which means that the analysis update should return a quantity very close to the original Y\n",
    "zeta = 0\n",
    "\n",
    "X0 = torch.Tensor([[1,1], [1,1],[1,1]]).to(dtype = torch.double)\n",
    "x_perturb = torch.round(torch.normal(0,0.1,size = (N_ensem,dx))*10).to(dtype = torch.double)/10\n",
    "print(x_perturb)"
   ]
  },
  {
   "cell_type": "code",
   "execution_count": 3,
   "id": "1f5e134a-80f8-4a8f-933e-c6e9f666dfc5",
   "metadata": {},
   "outputs": [
    {
     "data": {
      "text/plain": [
       "tensor([[[0.9000, 1.0000],\n",
       "         [1.1000, 0.8000],\n",
       "         [0.8000, 1.0000]]], dtype=torch.float64)"
      ]
     },
     "execution_count": 3,
     "metadata": {},
     "output_type": "execute_result"
    }
   ],
   "source": [
    "# latent space ensemble\n",
    "X = (X0 + x_perturb).unsqueeze(0)\n",
    "X"
   ]
  },
  {
   "cell_type": "code",
   "execution_count": 4,
   "id": "f85ae85b-201e-46ae-9322-49d4294f1932",
   "metadata": {},
   "outputs": [
    {
     "data": {
      "text/plain": [
       "tensor([[1., 1.],\n",
       "        [1., 1.],\n",
       "        [1., 1.]], dtype=torch.float64)"
      ]
     },
     "execution_count": 4,
     "metadata": {},
     "output_type": "execute_result"
    }
   ],
   "source": [
    "# this is the tensor we want to recover\n",
    "Y = torch.Tensor([[1,1],[1,1],[1,1]]).to(dtype = torch.double)\n",
    "Y"
   ]
  },
  {
   "cell_type": "code",
   "execution_count": 5,
   "id": "0fb73ac0-a060-4b92-9766-08e9edaab8b0",
   "metadata": {},
   "outputs": [
    {
     "data": {
      "text/plain": [
       "tensor([[0.9790, 0.9950],\n",
       "        [0.9990, 1.0000],\n",
       "        [0.9960, 0.9850]], dtype=torch.float64)"
      ]
     },
     "execution_count": 5,
     "metadata": {},
     "output_type": "execute_result"
    }
   ],
   "source": [
    "# perturb the observational data\n",
    "y_perturb = torch.round(torch.normal(0,math.sqrt(r),size = (N_ensem,dy))*1000).to(dtype = torch.double)/1000\n",
    "Y + y_perturb"
   ]
  },
  {
   "cell_type": "markdown",
   "id": "ebf59214",
   "metadata": {},
   "source": [
    "# Results from test_analysis function above"
   ]
  },
  {
   "cell_type": "code",
   "execution_count": 6,
   "id": "ce4d3d8f-86a4-4fb8-8571-318f02a4cef0",
   "metadata": {},
   "outputs": [
    {
     "data": {
      "text/plain": [
       "tensor([[[0.9764, 0.9918],\n",
       "         [0.9937, 0.9919],\n",
       "         [0.9896, 0.9771]]], dtype=torch.float64)"
      ]
     },
     "execution_count": 6,
     "metadata": {},
     "output_type": "execute_result"
    }
   ],
   "source": [
    "results = test_analysis(X, Y, r, N_ensem, zeta, y_perturb, float_type = torch.double)\n",
    "results"
   ]
  },
  {
   "cell_type": "markdown",
   "id": "9fd13546",
   "metadata": {},
   "source": [
    "# Computations based on original formula: dx=dy=2, N=3"
   ]
  },
  {
   "cell_type": "markdown",
   "id": "efc61cbb-a16a-4ccb-8e0c-db8f08a37680",
   "metadata": {},
   "source": [
    "$Z = \\sqrt{\\frac{1+\\zeta}{N-1}}(\\hat X - \\hat m), \\quad \\hat m = \\frac{1}{N_{ensem}}\\sum_{n=1}^{N_{ensem}}\\hat X^n$"
   ]
  },
  {
   "cell_type": "code",
   "execution_count": 7,
   "id": "eb5069ff",
   "metadata": {},
   "outputs": [],
   "source": [
    "# convert X and Y to transposes to match the analytic expression\n",
    "X = X.transpose(-1,-2)\n",
    "Y = Y.transpose(-1,-2)\n",
    "y_perturb = y_perturb.transpose(-1,-2)"
   ]
  },
  {
   "cell_type": "code",
   "execution_count": 8,
   "id": "82722933",
   "metadata": {},
   "outputs": [
    {
     "data": {
      "text/plain": [
       "torch.Size([1, 2, 3])"
      ]
     },
     "execution_count": 8,
     "metadata": {},
     "output_type": "execute_result"
    }
   ],
   "source": [
    "X.shape"
   ]
  },
  {
   "cell_type": "code",
   "execution_count": 9,
   "id": "4d33e53f",
   "metadata": {},
   "outputs": [
    {
     "data": {
      "text/plain": [
       "torch.Size([2, 3])"
      ]
     },
     "execution_count": 9,
     "metadata": {},
     "output_type": "execute_result"
    }
   ],
   "source": [
    "Y.shape"
   ]
  },
  {
   "cell_type": "code",
   "execution_count": 10,
   "id": "5f9ef7fd-ab21-4da7-b01e-3d2ef20d4a02",
   "metadata": {},
   "outputs": [
    {
     "data": {
      "text/plain": [
       "tensor([[[-0.0236,  0.1179, -0.0943],\n",
       "         [ 0.0471, -0.0943,  0.0471]]], dtype=torch.float64)"
      ]
     },
     "execution_count": 10,
     "metadata": {},
     "output_type": "execute_result"
    }
   ],
   "source": [
    "Z = math.sqrt(1+zeta)/math.sqrt(N_ensem-1) * (X - X.mean(2, keepdims=True))\n",
    "Z"
   ]
  },
  {
   "cell_type": "markdown",
   "id": "e5abc417-3feb-4459-b678-386139b39351",
   "metadata": {},
   "source": [
    "$\\sqrt{\\frac{1+\\zeta}{N_{ensem} - 1}}(\\hat X - \\hat m) \\tilde Z^T$"
   ]
  },
  {
   "cell_type": "code",
   "execution_count": 11,
   "id": "129a813c-345d-4133-aea9-50d0a454ea20",
   "metadata": {},
   "outputs": [
    {
     "data": {
      "text/plain": [
       "tensor([[[ 0.0233, -0.0167],\n",
       "         [-0.0167,  0.0133]]], dtype=torch.float64)"
      ]
     },
     "execution_count": 11,
     "metadata": {},
     "output_type": "execute_result"
    }
   ],
   "source": [
    "A = math.sqrt(1+zeta)/math.sqrt(N_ensem -1) * (X - X.mean(2, keepdims=True)) @ Z.transpose(-1,-2)\n",
    "A"
   ]
  },
  {
   "cell_type": "markdown",
   "id": "35b2c581-dc97-42cb-acec-34faaa784501",
   "metadata": {},
   "source": [
    "$(I + Z^T R^{-1}Z)^{-1}$"
   ]
  },
  {
   "cell_type": "code",
   "execution_count": 12,
   "id": "be5422b1-50c2-460d-9e40-45408308eb5a",
   "metadata": {},
   "outputs": [
    {
     "data": {
      "text/plain": [
       "tensor([[[0.3921, 0.3197, 0.2882],\n",
       "         [0.3197, 0.3380, 0.3422],\n",
       "         [0.2882, 0.3422, 0.3695]]], dtype=torch.float64)"
      ]
     },
     "execution_count": 12,
     "metadata": {},
     "output_type": "execute_result"
    }
   ],
   "source": [
    "B = torch.linalg.inv(torch.eye(N_ensem, dtype= torch.double) + 1/r* Z.transpose(-1,-2)@ Z)\n",
    "B"
   ]
  },
  {
   "cell_type": "markdown",
   "id": "0cc5cacf-59f8-4752-b33d-9008111d4ee0",
   "metadata": {},
   "source": [
    "$Y + \\gamma - X$"
   ]
  },
  {
   "cell_type": "code",
   "execution_count": 13,
   "id": "ff82db75-ab84-4495-9db9-bcc78e803664",
   "metadata": {},
   "outputs": [],
   "source": [
    "C = Y + y_perturb - X"
   ]
  },
  {
   "cell_type": "markdown",
   "id": "ddc8f637-0af8-4276-ab7d-f29c1391280f",
   "metadata": {},
   "source": [
    "$R^{-1} - R^{-1}Z(I+Z^TR^{-1}Z)^{-1}Z^TR^{-1}$"
   ]
  },
  {
   "cell_type": "code",
   "execution_count": 15,
   "id": "def7454c-8f90-4708-b049-af6d152ae7bd",
   "metadata": {},
   "outputs": [],
   "source": [
    "D = 1/r*torch.eye(dy,dtype= torch.double).unsqueeze(0) - 1/r*Z @ B @ Z.transpose(-1,-2)*1/r"
   ]
  },
  {
   "cell_type": "code",
   "execution_count": 17,
   "id": "1d9654f3-9007-43b9-8d88-d4db5b8095b7",
   "metadata": {},
   "outputs": [
    {
     "data": {
      "text/plain": [
       "tensor([[[0.9764, 0.9918],\n",
       "         [0.9937, 0.9919],\n",
       "         [0.9896, 0.9771]]], dtype=torch.float64)"
      ]
     },
     "execution_count": 17,
     "metadata": {},
     "output_type": "execute_result"
    }
   ],
   "source": [
    "(X + A @ D @ C).transpose(-1,-2) # transpose the results to match the results from test_analysis"
   ]
  },
  {
   "cell_type": "markdown",
   "id": "a3acdc35",
   "metadata": {},
   "source": [
    "Comparing these hand calculated results and the results from the test_analysis code:"
   ]
  },
  {
   "cell_type": "code",
   "execution_count": 18,
   "id": "43788639",
   "metadata": {},
   "outputs": [
    {
     "data": {
      "text/plain": [
       "tensor([[[0.9764, 0.9918],\n",
       "         [0.9937, 0.9919],\n",
       "         [0.9896, 0.9771]]], dtype=torch.float64)"
      ]
     },
     "execution_count": 18,
     "metadata": {},
     "output_type": "execute_result"
    }
   ],
   "source": [
    "results"
   ]
  }
 ],
 "metadata": {
  "kernelspec": {
   "display_name": "Python 3",
   "language": "python",
   "name": "python3"
  },
  "language_info": {
   "codemirror_mode": {
    "name": "ipython",
    "version": 3
   },
   "file_extension": ".py",
   "mimetype": "text/x-python",
   "name": "python",
   "nbconvert_exporter": "python",
   "pygments_lexer": "ipython3",
   "version": "3.7.12"
  }
 },
 "nbformat": 4,
 "nbformat_minor": 5
}
